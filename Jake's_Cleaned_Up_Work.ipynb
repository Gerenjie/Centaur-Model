{
 "cells": [
  {
   "cell_type": "markdown",
   "metadata": {},
   "source": [
    "# Creating Synthetic Populations \n",
    "\n",
    "- Inherited from Holmans' PS1_debias.ipynb notebook \n",
    "\n"
   ]
  },
  {
   "cell_type": "code",
   "execution_count": 2,
   "metadata": {},
   "outputs": [],
   "source": [
    "import time\n",
    "import numpy as np\n",
    "import scipy.stats as stats\n",
    "import math\n",
    "import random\n",
    "from collections import defaultdict\n",
    "import MPC_library as MPCL\n",
    "import healpy as hp\n",
    "import os\n",
    "import sys\n",
    "\n",
    "\n",
    "from collections import Counter\n",
    "\n",
    "\n",
    "import glob \n",
    "\n",
    "\n",
    "import warnings\n",
    "import warnings\n",
    "warnings.filterwarnings('ignore')\n",
    "import kepcart as kc\n",
    "\n",
    "\n",
    "\n",
    "import matplotlib.pyplot as plt"
   ]
  },
  {
   "cell_type": "markdown",
   "metadata": {},
   "source": [
    "# Centaur Samples"
   ]
  },
  {
   "cell_type": "code",
   "execution_count": 3,
   "metadata": {},
   "outputs": [],
   "source": [
    "# M == Mean Anomaly\n",
    "# E = Eccentric Anomaly\n",
    "# e = Eccentricity (shape of orbit)\n",
    "# f = True Anomaly\n",
    "def M_to_E(M, e, E1=None, iter=200):\n",
    "    if np.any(E1==None):\n",
    "        E1=M\n",
    "    for i in range(iter):\n",
    "        E0 = E1\n",
    "        E1 = M + e*np.sin(E0)\n",
    "    return E1 % (2*np.pi)\n",
    "\n",
    "def E_to_M(E, e):\n",
    "    M = E - e*np.sin(E)\n",
    "    return M % (2*np.pi)\n",
    "\n",
    "def E_to_f(E, e):\n",
    "    f = 2.0*np.arctan(np.sqrt((1.+e)/(1.-e)))*np.tan(E/2)\n",
    "    return f % (2*np.pi)\n",
    "\n",
    "def f_to_E(f, e):\n",
    "    E = 2.0*np.arctan(np.sqrt((1.-e)/(1.+e)))*np.tan(f/2)\n",
    "    return E % (2*np.pi)\n",
    "\n",
    "\n"
   ]
  },
  {
   "cell_type": "code",
   "execution_count": 4,
   "metadata": {},
   "outputs": [],
   "source": [
    "def random_vec(nsamp=10):\n",
    "    u = np.random.uniform(-1,1, size=nsamp)\n",
    "    incl = np.arccos(u)\n",
    "    longnode = np.random.uniform(0,2*np.pi, size=nsamp)\n",
    "    r = np.zeros((nsamp, 3), dtype=np.float)\n",
    "    r[:,0] = np.sin(incl)*np.cos(longnode)\n",
    "    r[:,1] = np.sin(incl)*np.sin(longnode)\n",
    "    r[:,2] = np.cos(incl)\n",
    "    return r\n",
    "\n",
    "def random_ortho(nsamp):\n",
    "    rvecs = random_vec(nsamp)\n",
    "    pvecs = np.zeros((nsamp,3))\n",
    "    pvecs[:,0]=rvecs[:,1]\n",
    "    pvecs[:,1]=-rvecs[:,0]\n",
    "    p = np.linalg.norm(pvecs,axis=1)\n",
    "    pvecs=pvecs/p[:,None]\n",
    "    cvecs=np.cross(rvecs,pvecs)\n",
    "    theta = np.random.uniform(0,2*np.pi, size=nsamp)\n",
    "    fvecs = pvecs*np.cos(theta[:,None]) + cvecs*np.sin(theta[:,None])\n",
    "    return rvecs, fvecs, np.cross(rvecs, fvecs)\n",
    "\n"
   ]
  },
  {
   "cell_type": "code",
   "execution_count": 5,
   "metadata": {},
   "outputs": [],
   "source": [
    "#Creates a random sample of objects of size nsamp.\n",
    "#Most attributes are chosen uniformly, but eccentricity is via a normal distribution defined by muEc, sigmaEc.\n",
    "\n",
    "def centaur_sample(nsamp=1000000, e_max=0.99):\n",
    "    r0, pvecs, _ = random_ortho(nsamp)\n",
    "    x, y, z = r0[:,0], r0[:,1], r0[:,2]\n",
    "    xn, yn, zn = pvecs[:,0], pvecs[:,1], pvecs[:,2]\n",
    "    \n",
    "    \n",
    "    #normal distribution centered at muEc with std dev sigmaEc\n",
    "    muEc, sigmaEc = .4, .2\n",
    "    lowerEc, upperEc = 0, e_max\n",
    "    TRN = stats.truncnorm((lowerEc-muEc)/sigmaEc, (upperEc-muEc)/sigmaEc, loc=muEc, scale=sigmaEc)\n",
    "    e = TRN.rvs(size=nsamp)\n",
    "    \n",
    "    meananom = np.random.uniform(0,2*np.pi, size=nsamp)\n",
    "    E = M_to_E(meananom, e, iter=10)\n",
    "    #muQ, sigmaQ = 30, 10\n",
    "    #lowerQ, upperQ = 5, 25\n",
    "    #radiusRandomizer = stats.truncnorm((lowerR - muR)/sigmaR, (upperR-muR)/sigmaR, loc=muR, scale=sigmaR)\n",
    "    q = np.random.uniform(2, 35, size=nsamp)\n",
    "    a = q/(1.-e) \n",
    "    incl = np.arccos(zn)\n",
    "    longnode = np.arctan2(xn, -yn)\n",
    "    \n",
    "    cosnode=np.cos(longnode)\n",
    "    sinnode=np.sin(longnode)\n",
    "\n",
    "    rcosu = x*cosnode + y*sinnode\n",
    "    rsinu =(y*cosnode - x*sinnode)/zn\n",
    "    u = np.arctan2(rsinu, rcosu)\n",
    "    trueanom = E_to_f(E, e)\n",
    "    argperi = (u - trueanom) % (2*np.pi)\n",
    "    \n",
    "    \n",
    "    return a, e, incl, longnode, argperi, meananom\n",
    "\n"
   ]
  },
  {
   "cell_type": "markdown",
   "metadata": {},
   "source": [
    "# Numerical Integration"
   ]
  },
  {
   "cell_type": "code",
   "execution_count": 6,
   "metadata": {},
   "outputs": [],
   "source": [
    "#Given a set of state variables, this method runs the nbody-r and probe executables to integrate \n",
    "#Change nbodyDir to wherever the probe and nbody-r files are.\n",
    "#Returns a dictionary with times as keys and a position/velocity array as output. \n",
    "\n",
    "def createFilesAndIntegrate(states, timestep, steps_per_output, num_outputs) :\n",
    "    nbodyDir = \"/Users/jake/Dropbox/centaurs/nbody_safe/\"\n",
    "    outputDir = \"/Users/jake/Dropbox/centaurs/nbody/jakeTests/\"\n",
    "    filestem = \"DoIExist_Year_\" + str(int(time.time()))#_%fZ\")\n",
    "    # to set up ICs\n",
    "    # - this is *NOT* the direct input to the n-body integrator\n",
    "    # - it should more be regarded as a header file / info file \n",
    "    #with open(nbodyDir + filestem + '.txt', 'w') as file:\n",
    "    with open(outputDir + filestem + '.txt', 'w') as file:\n",
    "        outstring='# These are initial cartesian ecliptic states for a sample of orbits\\n'\n",
    "        outstring+='# These are a replication of the test-particles in %s\\n' % nbodyDir + filestem\n",
    "        outstring+='# Intended to demonstrate tracklet creation at a number of distances\\n'\n",
    "        outstring+='# Generated using pyTrax_Data_Ingest_Example_Synthetic_3.ipynb notebook\\n'\n",
    "        outstring+='#\\n'\n",
    "        outstring+='# x y z xd yd zd\\n'\n",
    "        outstring+='# units are AU and AU/day\\n'\n",
    "        outstring+='#\\n'\n",
    "        file.write(outstring)\n",
    "        for state in states:\n",
    "            outstring='particle\\n%.16f %.16f %.16f %.16e %.16e %.16e\\n' % (state.x, state.y, state.z, state.xd, state.yd, state.zd)\n",
    "            file.write(outstring)\n",
    "\n",
    "    # THIS is the main input file \n",
    "    # need to add in the planetary positions, etc, at the top of the main input file \n",
    "    with open(outputDir + filestem, 'w') as file:\n",
    "        outstring='time 2454466.5\\n' # We should set this to correspond to the Julien Date at the start of 2010\n",
    "        outstring+='hill_sphere_factor 0.25\\n'\n",
    "        outstring+='dt '+str(timestep)+'\\n' # timestep in days \n",
    "        outstring+='nupdate '+str(int(steps_per_output))+'\\n' # how many timesteps to take before producing output \n",
    "        outstring+='noutput 1\\n' \n",
    "        outstring+='ntotal '+str(int(num_outputs))+'\\n' # how many sets of output to produce: we want to run for ~10 years total \n",
    "        outstring+='planet_states\\n'\n",
    "        outstring+='particle_states\\n'\n",
    "        outstring+='G 2.959122082322128e-04\\n'\n",
    "        outstring+='Msun 1.0\\n'\n",
    "        outstring+='em_index 0\\n'\n",
    "        outstring+='gr_constant 0.0\\n'\n",
    "        outstring+='quad_constant 0.0\\n'\n",
    "        outstring+='barycentric\\n'\n",
    "        outstring+='sun\\n'\n",
    "        outstring+=' 1.561402529627539e-04  4.953005432015677e-03 -7.105631884623408e-05\\n'\n",
    "        outstring+='-6.389749013486683e-06  6.495964171502198e-07  1.100598619353550e-07\\n'\n",
    "        outstring+='m_planet 1.660114153000000e-07\\n'\n",
    "        outstring+='2.602148208137757e-01 -3.292244628782728e-01 -5.123727708368509e-02\\n'\n",
    "        outstring+='1.659532456067476e-02  1.864190471122602e-02 -3.929871874523593e-07\\n'\n",
    "        outstring+='m_planet 2.447838288000000e-06\\n'\n",
    "        outstring+='-7.178008846563310e-01 -3.564142618684388e-02  4.080959356442847e-02\\n'\n",
    "        outstring+='1.013934063822650e-03 -2.028288042635279e-02 -3.364175614938229e-04\\n'\n",
    "        outstring+='m_planet 3.003489615000000e-06\\n'\n",
    "        outstring+='-1.675444337270498e-01  9.738318399949668e-01 -8.848710649717524e-05\\n'\n",
    "        outstring+='-1.723965496695509e-02 -2.998089479566788e-03  2.014628834321812e-07\\n'\n",
    "        outstring+='m_planet 3.227156038000000e-07\\n'\n",
    "        outstring+='-1.650127782726454e-01  1.579950905388059e+00  3.698226487000504e-02\\n'\n",
    "        outstring+='-1.339404168689282e-02 -2.715126682046571e-04  3.232197353626530e-04\\n'\n",
    "        outstring+='m_planet 9.547919384000000e-04\\n'\n",
    "        outstring+='1.483366733392910e-01 -5.240607574939024e+00  1.838922497888381e-02\\n'\n",
    "        outstring+='7.449937516689820e-03  5.707878757173034e-04 -1.691124368854220e-04\\n'\n",
    "        outstring+='m_planet 2.858859806661000e-04\\n'\n",
    "        outstring+='-8.261542977968610e+00  4.193055697215763e+00  2.558059889927936e-01\\n'\n",
    "        outstring+='-2.822018174472759e-03 -4.987848378405353e-03  1.990803802348707e-04\\n'\n",
    "        outstring+='m_planet 4.366244000000000e-05\\n'\n",
    "        outstring+='1.964046375645850e+01 -4.238756428479231e+00 -2.702098023085751e-01\\n'\n",
    "        outstring+='8.010336315728508e-04  3.661284926651336e-03  3.230110758793685e-06\\n'\n",
    "        outstring+='m_planet 5.151389000000000e-05\\n'\n",
    "        outstring+='2.346585183697751e+01 -1.714470518227547e+01 -7.601640065764197e+00\\n'\n",
    "        outstring+='1.939090244950700e-03 2.304786228786757e-03 8.950850954553373e-04\\n'\n",
    "        file.write(outstring)\n",
    "        for state in states:\n",
    "            outstring='particle\\n%.16f %.16f %.16f %.16e %.16e %.16e\\n' % (state.x, state.y, state.z, state.xd, state.yd, state.zd)\n",
    "            file.write(outstring)\n",
    "            \n",
    "            \n",
    "        # to run nbody code ...\n",
    "    #(i) make the command as a string ...\n",
    "    os.chdir(nbodyDir)\n",
    "    command = \"%snbody-r %s \" % (nbodyDir, outputDir +filestem) \n",
    "    #(ii) execture the command ...\n",
    "    os.system(command)\n",
    "\n",
    "\n",
    "    # N.B. the  output files produced by nbody will look like ...\n",
    "    #filestem.pb # <<-- Binary file with posns of planets\n",
    "    #filestem.tb # <<-- Binary file with posns of test particles (what I am interested in)\n",
    "\n",
    "\n",
    "    # Generate detailed output files using \"probe\" \n",
    "    # probe : can look at the file while running or when finished\n",
    "    # \"case 4\" outputs barycentric posn & veloc of all test \n",
    "    outfilestem = filestem + \"_out\"\n",
    "    command = \"%sprobe 4 %s %s \" % (nbodyDir , outputDir + filestem , nbodyDir + outfilestem)\n",
    "    os.system(command)\n",
    "    \n",
    "    nbody_dict=defaultdict(list)\n",
    "    # Find all the output files ...\n",
    "    # ... then read them all into a dictionary  ...\n",
    "    # ... key-ed on times \n",
    "    for name in sorted(glob.glob( '%s/%s*' % (nbodyDir, outfilestem) )):\n",
    "        i = 0\n",
    "        for v in open(name):\n",
    "            if v.startswith('#'):\n",
    "                t = float(v.split()[1])-2454466.5 # not permanant solution. FIX THIS! This is a problem!\n",
    "            else:\n",
    "                nbody_dict[t].append(tuple(map(float, v.split())))\n",
    "                i+=1\n",
    "    # Sorted keys (times)\n",
    "    sim_times = np.array(sorted(nbody_dict.keys()))\n",
    "    # Make the data into arrays \n",
    "    for key in sim_times:\n",
    "        nbody_dict[key] = np.array(nbody_dict[key])\n",
    "    for fn in range(2001):\n",
    "        command = \"rm \"+ filestem +\"_out_\" + str(fn*2+2454466.5)\n",
    "        os.system(command)\n",
    "    return nbody_dict"
   ]
  },
  {
   "cell_type": "markdown",
   "metadata": {},
   "source": [
    "# Chebyshev Approximations"
   ]
  },
  {
   "cell_type": "code",
   "execution_count": 7,
   "metadata": {},
   "outputs": [],
   "source": [
    "#Fits a piecewise chebyshev polynomial to the first 3 columns of nbody_dict (which should have x,y,z positions \n",
    "#and velocities). The maximum error at any point will be less than maxError. Based on some testing, \n",
    "#I recomend order 15 and pieces = 1, but feel free to mess around and change this up. \n",
    "#The output will be a list of objects. Each object is a list of coordinate functions, and each coordinate function \n",
    "#is a dictionary which maps startpoints to an array of polynomial coefficients. For example, if an object is: \n",
    "#[{0.0: [1,0,0,0...]}, {0.0: [1,0,0,0...], 2000.0:[2,0,0,0...]}, {0.0: [1.0]}]\n",
    "#then its X coordinate is always 1, its y coordinate is 1 from time 0 to 2000, and 2 from 2,000 on, \n",
    "#and its z coordinate is always 1.\n",
    "\n",
    "def getPiecewiseChebs (nbody_dict,maxError, order = 15, pieces = 1):\n",
    "    sim_times = np.array(sorted(nbody_dict.keys()))\n",
    "    Xchebs = []\n",
    "    Ychebs = []\n",
    "    Zchebs = []\n",
    "    allYs = []\n",
    "    errors = []\n",
    "    # loop over the objects in the dictionary ...\n",
    "    nSamp = len(nbody_dict[sim_times[0]])\n",
    "    for samp in range(nSamp):\n",
    "        # Get the positions at each of the times\n",
    "        ys= np.vstack([nbody_dict[t][samp] for t in sim_times])\n",
    "        allYs.append(ys)\n",
    "        x = ys.T[0]\n",
    "        y = ys.T[1]\n",
    "        z = ys.T[2]\n",
    "        Xchebs.append(getGoodApproximation(sim_times, x, order, maxError))\n",
    "        Ychebs.append(getGoodApproximation(sim_times, y, order, maxError)) \n",
    "        Zchebs.append(getGoodApproximation(sim_times, z, order, maxError))\n",
    "    return ([Xchebs, Ychebs, Zchebs], allYs)\n",
    "\n",
    "\n",
    "#This gets a piecewise chebyshev polynomial (each piece of some order/degree) which fits the points (x_1, y_1), (x_n, y_n)... with some maximum error.\n",
    "#If a single piece does not fit the data with the prescribed accuracy, it will bisect itself and try fitting a polynomial to each side.\n",
    "#Often, when an object has a close encounter with a planet, this ends up repeatedly bisecting to cover one particular small region (near the encounter) very accurately.\n",
    "#Otherwise, one piece usually fits. The average number of pieces for my centaur sample was about 1.3\n",
    "def getGoodApproximation(x, y, order, maxError):\n",
    "    chebCandidate = np.polynomial.chebyshev.chebfit(x, y, order)\n",
    "    if len(x) <= order:\n",
    "        return {x[0]: chebCandidate}\n",
    "    quickEval = np.polynomial.chebyshev.chebval(x, chebCandidate)\n",
    "    if error(quickEval, y) < maxError: #error threshold\n",
    "        return {x[0]: chebCandidate}\n",
    "    else:\n",
    "        half = int(len(x)/2)\n",
    "        dict1 = getGoodApproximation(x[:half], y[:half], order, maxError)\n",
    "        dict2 = getGoodApproximation(x[half:], y[half:], order, maxError)\n",
    "\n",
    "        dict1.update(dict2)\n",
    "        return dict1\n"
   ]
  },
  {
   "cell_type": "code",
   "execution_count": 8,
   "metadata": {},
   "outputs": [],
   "source": [
    "#Finds the maximum difference between any pair of nth elements of two lists. \n",
    "def error(a, b):\n",
    "    err = 0\n",
    "    for i in range(len(a)):\n",
    "        err = max(err, abs(a[i]-b[i]))\n",
    "    return err\n"
   ]
  },
  {
   "cell_type": "code",
   "execution_count": 9,
   "metadata": {},
   "outputs": [],
   "source": [
    "#Evaluates a piecewise chebyshev polynomial at a given time. Returns a list of 3 values. \n",
    "def evaluate3DPiecewiseCheb(evalTime, cheb):\n",
    "    times = [list(i.keys()) for i in cheb]\n",
    "    for i in range(3):\n",
    "        times[i].sort()\n",
    "    iterators = [0,0,0]\n",
    "    for i in range(3):\n",
    "        while iterators[i] < len(times[i])-1 and times[i][iterators[i]+1] < evalTime:\n",
    "            iterators[i] +=1 \n",
    "    vals = [np.polynomial.chebyshev.chebval([evalTime], cheb[i][times[i][iterators[i]]])[0] for i in range(3)]\n",
    "    return vals\n",
    "\n",
    "\n"
   ]
  },
  {
   "cell_type": "code",
   "execution_count": 10,
   "metadata": {},
   "outputs": [],
   "source": [
    "#Creates a sample of objects, then simulates their motion, and returns chebyshev approximations for the objects' orbits.\n",
    "def getChebsFromSimulation(nSamp, sim_timestep,num_outputs,total_time,maxError = .0000005):\n",
    "    errors = ([],[],[],[],[],[],[]) \n",
    "\n",
    "\n",
    "    steps_per_output = int((total_time/num_outputs)/sim_timestep) \n",
    "    time_per_output = int(total_time/num_outputs) \n",
    "    sim_times = np.arange(0, total_time+1, steps_per_output*sim_timestep)  \n",
    "    \n",
    "    \n",
    "    a, e, incl, longnode, argperi, meananom= centaur_sample(nsamp=nSamp, e_max=0.99)\n",
    "    states = kc.cartesians(len(a), MPCL.Constants.GMsun, a, e, incl, longnode, argperi, meananom)\n",
    "    nbody_dict = createFilesAndIntegrate(states, sim_timestep, steps_per_output, num_outputs)\n",
    "    chebs, ys = getPiecewiseChebs(nbody_dict, maxError, 15, 1)\n",
    "    chebs = np.array(chebs).T\n",
    "    \n",
    "    return (chebs)\n",
    "\n"
   ]
  },
  {
   "cell_type": "code",
   "execution_count": 11,
   "metadata": {},
   "outputs": [],
   "source": [
    "#Same as getChebsFromSimulation, but instead of returning the objects, writes them to files. \n",
    "#Default is 10,000 objects per file, computed 1000 at a time.\n",
    "def makeChebFiles(start, end, sampleSize=1000, numSamples = 10):\n",
    "    ender = ''\n",
    "    for fileNum in [start, end]:\n",
    "        print()\n",
    "        print()\n",
    "        print()\n",
    "        print('File: ' + str(fileNum))\n",
    "        print()\n",
    "        \n",
    "        #This section is the only important stuff. Runs a simulation of sampleSize objects numSamples times, and \n",
    "        #writes the objects to a file named chebs<number>.txt. \n",
    "        with open('/Users/jake/Dropbox/centaurs/nbody_safe/chebs'+str(fileNum)+'.txt', 'w') as file:\n",
    "            for sampleNumber in range(numSamples):\n",
    "                totalTimer0 = time.time()\n",
    "                chebs = getChebsFromSimulation(sampleSize, 2.0, 2000.0, 4000.0,.0000005)\n",
    "                for cheb in chebs:\n",
    "                    file.write(str(cheb) + '\\n')\n",
    "                \n",
    "                #Just printing out progress. Not important. \n",
    "                totalTimer1 = time.time()\n",
    "                if sampleNumber % 10 == 1:\n",
    "                    ender = 'st'\n",
    "                elif sampleNumber % 10 == 2:\n",
    "                    ender = 'nd'\n",
    "                elif sampleNumber % 10 == 3:\n",
    "                    ender = 'rd'\n",
    "                else:\n",
    "                    ender = 'th'\n",
    "                print('through the ' + str(sampleNumber) + ender + ' part in ' + str(int(totalTimer1-totalTimer0)) + ' seconds')\n",
    "        \n",
    "        file.close()\n",
    "        \n",
    "def getChebsFromFiles(numFiles):\n",
    "        obs = []\n",
    "        for fileNum in range(numFiles):\n",
    "                with open('/Users/jake/Desktop/savedChebs/chebs'+str(fileNum)+'.txt', 'r') as file:\n",
    "                        fullStr=file.read()\n",
    "                        fullStr=fullStr.replace('\\n', '')\n",
    "                        fullStr=fullStr.replace(' ' , '')\n",
    "                        fullStr=fullStr.replace('\\t', '')\n",
    "                        abc = fullStr.split('][')\n",
    "                        abc[0] = abc[0][1:]\n",
    "                        abc[-1] = abc[-1][:-1]\n",
    "                        for particle in abc:\n",
    "                                piecewiseChebStrings = particle.split('}{')\n",
    "                                piecewiseChebStrings[0] = piecewiseChebStrings[0] [1:]\n",
    "                                piecewiseChebStrings[-1]= piecewiseChebStrings[-1][:-1]\n",
    "                                obj = []\n",
    "                                for coordinatePiecewiseCheb in piecewiseChebStrings:\n",
    "                                        pieces = coordinatePiecewiseCheb.split('),')\n",
    "                                        pieces[-1]= pieces[-1][:-1]\n",
    "                                        newDict = {}\n",
    "                                        for piece in pieces:\n",
    "                                                key, value = piece.split(':')\n",
    "                                                key = float(key)\n",
    "                                                value = value[7:-1]\n",
    "                                                coefficients = value.split(',')\n",
    "                                                for i in range(len(coefficients)):\n",
    "                                                        coefficients[i] = float(coefficients[i])\n",
    "                                                coefficients = np.array(coefficients)\n",
    "                                                newDict[key]=coefficients\n",
    "                                        obj.append(newDict)\n",
    "                                obs.append(obj)\n",
    "                file.close()\n",
    "        return obs"
   ]
  },
  {
   "cell_type": "code",
   "execution_count": 217,
   "metadata": {},
   "outputs": [
    {
     "data": {
      "image/png": "[encoded data removed]",
      "text/plain": [
       "<Figure size 432x288 with 1 Axes>"
      ]
     },
     "metadata": {
      "needs_background": "light"
     },
     "output_type": "display_data"
    }
   ],
   "source": [
    "#chebs = getChebsFromFiles(100)\n",
    "#counter = 0\n",
    "#minNum=4001\n",
    "#baddies = []\n",
    "#for chebnum in range(len(chebs)):\n",
    "#    keys = list(chebs[chebnum][0].keys())\n",
    "#    for keyPair in range(len(keys)-1):\n",
    "#        if keys[keyPair+1]-keys[keyPair] < 17:\n",
    "#            baddies.append(chebnum)\n",
    "#            print(keys[keyPair+1]-keys[keyPair])\n",
    "#            break\n",
    "\n",
    "i=2\n",
    "for j in range(i*3, i*3+3):\n",
    "    x = baddies[j]\n",
    "#print(chebs[x])\n",
    "    evalPoints = [evaluate3DPiecewiseCheb(t, chebs[x]) for t in range(4000)]\n",
    "    ran = range(4000)\n",
    "    evalX, evalY, evalZ = [evalPoints[i][0] for i in ran], [evalPoints[i][1] for i in ran], [evalPoints[i][2] for i in ran]\n",
    "    plt.plot(evalZ)\n",
    "#plt.plot(evalY)\n",
    "#plt.plot(evalX)\n",
    "#print(chebs[x][0])\n",
    "#len(baddies)\n",
    "#baddies\n",
    "#print(chebs[x])"
   ]
  },
  {
   "cell_type": "code",
   "execution_count": 208,
   "metadata": {},
   "outputs": [
    {
     "name": "stdout",
     "output_type": "stream",
     "text": [
      "[12393, 22357, 22517, 24518, 30984, 45537, 55445, 70481, 79337, 80593, 84011, 91647, 103809, 104353, 117199, 118243, 120378, 124732, 125107, 128582, 132494, 147951, 148905, 164998, 176452, 187853, 189389]\n",
      "21\n"
     ]
    }
   ],
   "source": [
    "#actualBadIndexes = []\n",
    "#actualBads = [3, 4, 9,10,12,21,37,42,45,54,55,64,65,67,70,72,77,84,91,93,94]\n",
    "#for i in actualBads:\n",
    "#    actualBadIndexes.append(baddies[i])\n",
    "print(baddies[:27])\n",
    "print(len(actualBadIndexes))"
   ]
  },
  {
   "cell_type": "markdown",
   "metadata": {},
   "source": [
    "#### Absolute positions to Earth-based observations"
   ]
  },
  {
   "cell_type": "code",
   "execution_count": 12,
   "metadata": {},
   "outputs": [],
   "source": [
    "#Given a set of objects and a time, this returns a set of vectors from Pan-STARRs to the objects as they appear in\n",
    "#the sky at that time (speed-of-light delay factored in). \n",
    "\n",
    "def getObservationVectorAtTime(atTime, chebyshevs):\n",
    "    c = MPCL.Constants.speed_of_light\n",
    "    baseTime = 2454466.5\n",
    "    offset = 100 #100 days before for speed-of-light buffer\n",
    "    t0Base = baseTime + offset \n",
    "    t0=MPCL.EOP.jdTDB(t0Base)\n",
    "    nSamp = len(chebyshevs)\n",
    "    d = np.zeros(nSamp)\n",
    "    xs = np.zeros(nSamp)\n",
    "    ys = np.zeros(nSamp)\n",
    "    zs = np.zeros(nSamp)\n",
    "    t1Base = t0Base + atTime\n",
    "    t = MPCL.EOP.jdTDB(t1Base)\n",
    "    obsPosition = np.array(MPCL.Observatories.getObservatoryPosition('F51', t))\n",
    "    #print(obsPosition)\n",
    "    totalTime = 0\n",
    "    for objNum in range(len(chebyshevs)):\n",
    "        lightDelay = 0.0\n",
    "        for i in range(2):\n",
    "            delayedTime = t - lightDelay\n",
    "            centaurPosition = evaluate3DPiecewiseCheb(delayedTime-t0+offset, chebyshevs[objNum])\n",
    "            obsToCentaurVector = centaurPosition - obsPosition\n",
    "            d = np.linalg.norm(obsToCentaurVector)\n",
    "            lightDelay = d/c\n",
    "        x, y, z = obsToCentaurVector\n",
    "        xs[objNum] = x\n",
    "        ys[objNum] = y\n",
    "        zs[objNum] = z \n",
    "    return (xs,ys,zs)\n"
   ]
  },
  {
   "cell_type": "code",
   "execution_count": 13,
   "metadata": {},
   "outputs": [],
   "source": [
    "#Given a set of piecewise chebs representing objects, this creates a dictionary which maps healPix to objects at a given time.\n",
    "#Returns a list of lists of objects. The nth list has the integer numbers corresponding to the objects in the nth pixel.\n",
    "#For example, if chebs is 5 objects and there were only 3 pixels, the dictionary might be: [[3], [2,4], [1,5]]. \n",
    "def getHealPixDict(time, chebs, nside):\n",
    "    nObjects = len(chebs)\n",
    "    dicts = [[] for i in range(hp.nside2npix(nside))]\n",
    "    xs, ys,zs= getObservationVectorAtTime(time, chebs)\n",
    "    for i in range(nObjects):\n",
    "        pix = hp.vec2pix(nside, xs[i], ys[i], zs[i])\n",
    "        dicts[pix].append(i)\n",
    "    return dicts\n",
    "\n",
    "\n",
    "#Given the healPixDict (with healPixes numbers as keys and an array of objects in that pixel as values), \n",
    "#this returns a list of objects in healPixes \n",
    "def getObjectsInDisc(healPixDict, nSide, vector, radius):\n",
    "    pixes = hp.query_disc(nSide, vector, radius, True)\n",
    "    obsInTheDisc = []\n",
    "    for pix in pixes:\n",
    "        obsInTheDisc.extend(healPixDict[pix])\n",
    "    return obsInTheDisc\n"
   ]
  },
  {
   "cell_type": "markdown",
   "metadata": {},
   "source": [
    "#### Get list of exposures from file"
   ]
  },
  {
   "cell_type": "code",
   "execution_count": 14,
   "metadata": {},
   "outputs": [],
   "source": [
    "#Used to load exposures from amalgamated_unique_exposure_reads.txt into python, \n",
    "#and get a list of exposures with tuples containing (JD, ra, dec, and two parts of the filename). \n",
    "def getExposureTimesAndAnglesFromFile(filePath):\n",
    "    exposures = []\n",
    "    with open(filePath,'r') as file:\n",
    "        fullText = file.read()\n",
    "        lines = fullText.split('\\n')\n",
    "        for k in range(len(lines)-2):\n",
    "            values = lines[k+1].split(',')\n",
    "            values[1].strip()+values[2].strip()\n",
    "            for value in range(len(values)):\n",
    "                values[value] = values[value].strip()\n",
    "            if len(values) > 6 and not values[6] == 'None':\n",
    "                exposures.append((float(values[4])-2454466.5, float(values[5]), float(values[6]),values[1], values[2]))\n",
    "\n",
    "    return exposures\n"
   ]
  },
  {
   "cell_type": "markdown",
   "metadata": {},
   "source": [
    "## Generate list of plausible objects "
   ]
  },
  {
   "cell_type": "code",
   "execution_count": 185,
   "metadata": {
    "scrolled": true
   },
   "outputs": [],
   "source": [
    "#Same as getHealPixDict, but reads from a premade file instead of from cheb variables. \n",
    "#The n'th element of what is returned is a list of objects in the n'th healpix. \n",
    "#The objects are represented by a number, so you'll need to read both the HPdict and the chebs. \n",
    "def getHealPixDictFromFile(filePath, fileNum):\n",
    "    allObjects = []\n",
    "    with open(filePath + 'HPD'+str(fileNum)+'.txt', 'r') as file:\n",
    "        fullText = file.read()[2:-2]\n",
    "        dicts = fullText.split('], [')\n",
    "        for dictStr in dicts:\n",
    "            obs = dictStr.split(', ')\n",
    "            if obs == ['']:\n",
    "                obs = []\n",
    "            for objNum in range(len(obs)):\n",
    "                obs[objNum] = int(obs[objNum])\n",
    "            allObjects.append(obs)\n",
    "        file.close()\n",
    "    return allObjects\n",
    "\n",
    "\n"
   ]
  },
  {
   "cell_type": "code",
   "execution_count": 188,
   "metadata": {},
   "outputs": [],
   "source": [
    "#Searches exposures and returns the set within 12 hours of a given time. \n",
    "def getExposuresOnDay(exposures, day):\n",
    "    exposuresOnDay = []\n",
    "    for exp in exposures:\n",
    "        if round(exp[0]) == day:\n",
    "            exposuresOnDay.append(exp)\n",
    "    return exposuresOnDay\n",
    "\n",
    "\n",
    "# Reads a healpix dictionary and set of exposures in from files, then writes new files with a list of the objects which \n",
    "# might be in each exposure. \n",
    "def calculateObjectsNearExposures(exposuresFile, healPixDictPath, outputPath):\n",
    "    exposures = getExposureTimesAndAnglesFromFile(exposuresFile)\n",
    "    for day in range (1, 4000):\n",
    "        HPD = getHealPixDictFromFile(healPixDictPath, day)\n",
    "        with open('outputPath' + str(day) + '.txt', 'w') as file:\n",
    "            for exp in getExposuresOnDay(exposures, day):\n",
    "                theta = exp[1]*2*np.pi/360.\n",
    "                phi = (exp[2]+90)*2*np.pi/360.\n",
    "                x,y,z = np.sin(theta)*np.cos(phi), np.sin(theta)*np.sin(phi), np.cos(theta)\n",
    "                generousObs = getObjectsInDisc(HPD,256, [x,y,z], .0332)\n",
    "                strictObs = []\n",
    "                for ob in generousObs:\n",
    "                    pos = evaluate3DPiecewiseCheb(exp[0], chebs[ob])\n",
    "                    pos /= np.linalg.norm(pos)\n",
    "                    if pos[0]*x + pos[1]*y + pos[2]*z > .999450:\n",
    "                        strictObs.append(ob)\n",
    "                print(len(strictObs), len(generousObs))\n",
    "                file.write(str(exp[3]) + ' ' + str(strictObs) + '\\n')\n",
    "                file.close()"
   ]
  },
  {
   "cell_type": "code",
   "execution_count": null,
   "metadata": {},
   "outputs": [],
   "source": [
    "calculateObjectsNearExposures('/Users/jake/amalgamated_unique_exposure_reads.txt', '/Users/jake/Desktop/healPix/', '/Users/jake/Desktop/exposureObjects2/')"
   ]
  },
  {
   "cell_type": "code",
   "execution_count": null,
   "metadata": {},
   "outputs": [],
   "source": []
  },
  {
   "cell_type": "code",
   "execution_count": null,
   "metadata": {
    "scrolled": true
   },
   "outputs": [],
   "source": []
  },
  {
   "cell_type": "code",
   "execution_count": null,
   "metadata": {},
   "outputs": [],
   "source": [
    "\n"
   ]
  },
  {
   "cell_type": "markdown",
   "metadata": {},
   "source": [
    "To get an entirely new set of objects, just call makeChebFiles. As is, when makeChebFiles is called with parameters a and b, it will create b-a files, each with 10,000 objects. To read chebs in from files, run getChebsFromFiles (will get chebs0.txt up to chebs<x-1>.txt where x is the number you pass in). Both getChebs methods return a list of objects. The HealPix dictionary created from this list will represent each number by its index in the list, so don't modify the list of objects after creating the dictionary.\n",
    "    \n",
    "    \n",
    "To make a HealPix dictionary from a set of files, use getHealPixDictFromFile. HealPix dictionary files should be named HPD<day>.txt, where day ranges from 0 to ~4,000. I used 2454466.5 (Jan 1 2008) as day 0, but I believe the first exposure is early april 2009 and the last exposure is about 3,600 days after, so about 20% of the HealPix dictionaries don't need to exist. \n",
    "    \n",
    "To get a list of likely objects for each exposure, pass an exposures file (amalgamated_unique_exposure_reads.txt), a directory with HealPix dictionaries in it, and an output directory to calculateObjectsNearExposures. "
   ]
  },
  {
   "cell_type": "code",
   "execution_count": null,
   "metadata": {},
   "outputs": [],
   "source": []
  },
  {
   "cell_type": "code",
   "execution_count": null,
   "metadata": {},
   "outputs": [],
   "source": []
  },
  {
   "cell_type": "code",
   "execution_count": null,
   "metadata": {
    "scrolled": true
   },
   "outputs": [],
   "source": []
  },
  {
   "cell_type": "code",
   "execution_count": null,
   "metadata": {
    "scrolled": false
   },
   "outputs": [],
   "source": []
  },
  {
   "cell_type": "code",
   "execution_count": null,
   "metadata": {
    "scrolled": true
   },
   "outputs": [],
   "source": []
  },
  {
   "cell_type": "code",
   "execution_count": null,
   "metadata": {},
   "outputs": [],
   "source": []
  },
  {
   "cell_type": "code",
   "execution_count": null,
   "metadata": {},
   "outputs": [],
   "source": []
  },
  {
   "cell_type": "code",
   "execution_count": null,
   "metadata": {},
   "outputs": [],
   "source": []
  },
  {
   "cell_type": "code",
   "execution_count": null,
   "metadata": {},
   "outputs": [],
   "source": []
  },
  {
   "cell_type": "code",
   "execution_count": null,
   "metadata": {},
   "outputs": [],
   "source": []
  },
  {
   "cell_type": "code",
   "execution_count": null,
   "metadata": {},
   "outputs": [],
   "source": []
  },
  {
   "cell_type": "code",
   "execution_count": 36,
   "metadata": {},
   "outputs": [],
   "source": []
  },
  {
   "cell_type": "code",
   "execution_count": null,
   "metadata": {},
   "outputs": [],
   "source": []
  },
  {
   "cell_type": "code",
   "execution_count": null,
   "metadata": {},
   "outputs": [],
   "source": []
  },
  {
   "cell_type": "code",
   "execution_count": null,
   "metadata": {},
   "outputs": [],
   "source": []
  },
  {
   "cell_type": "code",
   "execution_count": null,
   "metadata": {},
   "outputs": [],
   "source": []
  },
  {
   "cell_type": "code",
   "execution_count": null,
   "metadata": {},
   "outputs": [],
   "source": []
  },
  {
   "cell_type": "code",
   "execution_count": null,
   "metadata": {},
   "outputs": [],
   "source": []
  },
  {
   "cell_type": "code",
   "execution_count": null,
   "metadata": {},
   "outputs": [],
   "source": []
  },
  {
   "cell_type": "code",
   "execution_count": null,
   "metadata": {},
   "outputs": [],
   "source": []
  },
  {
   "cell_type": "code",
   "execution_count": null,
   "metadata": {
    "scrolled": true
   },
   "outputs": [],
   "source": []
  },
  {
   "cell_type": "code",
   "execution_count": null,
   "metadata": {},
   "outputs": [],
   "source": []
  },
  {
   "cell_type": "code",
   "execution_count": null,
   "metadata": {},
   "outputs": [],
   "source": []
  },
  {
   "cell_type": "code",
   "execution_count": null,
   "metadata": {},
   "outputs": [],
   "source": []
  },
  {
   "cell_type": "code",
   "execution_count": null,
   "metadata": {},
   "outputs": [],
   "source": []
  },
  {
   "cell_type": "code",
   "execution_count": null,
   "metadata": {},
   "outputs": [],
   "source": []
  },
  {
   "cell_type": "code",
   "execution_count": null,
   "metadata": {},
   "outputs": [],
   "source": []
  },
  {
   "cell_type": "code",
   "execution_count": null,
   "metadata": {},
   "outputs": [],
   "source": []
  },
  {
   "cell_type": "code",
   "execution_count": null,
   "metadata": {},
   "outputs": [],
   "source": []
  },
  {
   "cell_type": "code",
   "execution_count": null,
   "metadata": {},
   "outputs": [],
   "source": []
  },
  {
   "cell_type": "code",
   "execution_count": null,
   "metadata": {},
   "outputs": [],
   "source": []
  },
  {
   "cell_type": "code",
   "execution_count": null,
   "metadata": {},
   "outputs": [],
   "source": []
  },
  {
   "cell_type": "code",
   "execution_count": null,
   "metadata": {},
   "outputs": [],
   "source": []
  },
  {
   "cell_type": "code",
   "execution_count": null,
   "metadata": {},
   "outputs": [],
   "source": []
  },
  {
   "cell_type": "code",
   "execution_count": null,
   "metadata": {},
   "outputs": [],
   "source": []
  },
  {
   "cell_type": "raw",
   "metadata": {},
   "source": []
  },
  {
   "cell_type": "code",
   "execution_count": null,
   "metadata": {
    "scrolled": false
   },
   "outputs": [],
   "source": [
    "\n"
   ]
  },
  {
   "cell_type": "code",
   "execution_count": null,
   "metadata": {},
   "outputs": [],
   "source": []
  },
  {
   "cell_type": "code",
   "execution_count": null,
   "metadata": {
    "scrolled": true
   },
   "outputs": [],
   "source": []
  },
  {
   "cell_type": "code",
   "execution_count": null,
   "metadata": {},
   "outputs": [],
   "source": []
  },
  {
   "cell_type": "code",
   "execution_count": null,
   "metadata": {},
   "outputs": [],
   "source": []
  },
  {
   "cell_type": "code",
   "execution_count": null,
   "metadata": {},
   "outputs": [],
   "source": []
  },
  {
   "cell_type": "code",
   "execution_count": null,
   "metadata": {},
   "outputs": [],
   "source": []
  },
  {
   "cell_type": "code",
   "execution_count": null,
   "metadata": {},
   "outputs": [],
   "source": []
  },
  {
   "cell_type": "code",
   "execution_count": null,
   "metadata": {},
   "outputs": [],
   "source": []
  },
  {
   "cell_type": "code",
   "execution_count": null,
   "metadata": {},
   "outputs": [],
   "source": []
  },
  {
   "cell_type": "code",
   "execution_count": null,
   "metadata": {},
   "outputs": [],
   "source": []
  },
  {
   "cell_type": "code",
   "execution_count": null,
   "metadata": {},
   "outputs": [],
   "source": []
  },
  {
   "cell_type": "code",
   "execution_count": 11,
   "metadata": {},
   "outputs": [],
   "source": []
  },
  {
   "cell_type": "code",
   "execution_count": null,
   "metadata": {},
   "outputs": [],
   "source": []
  },
  {
   "cell_type": "code",
   "execution_count": null,
   "metadata": {},
   "outputs": [],
   "source": []
  },
  {
   "cell_type": "code",
   "execution_count": null,
   "metadata": {},
   "outputs": [],
   "source": []
  },
  {
   "cell_type": "code",
   "execution_count": null,
   "metadata": {},
   "outputs": [],
   "source": []
  },
  {
   "cell_type": "code",
   "execution_count": null,
   "metadata": {},
   "outputs": [],
   "source": []
  },
  {
   "cell_type": "code",
   "execution_count": null,
   "metadata": {},
   "outputs": [],
   "source": []
  },
  {
   "cell_type": "code",
   "execution_count": null,
   "metadata": {},
   "outputs": [],
   "source": []
  },
  {
   "cell_type": "code",
   "execution_count": null,
   "metadata": {},
   "outputs": [],
   "source": []
  },
  {
   "cell_type": "code",
   "execution_count": null,
   "metadata": {},
   "outputs": [],
   "source": []
  },
  {
   "cell_type": "code",
   "execution_count": null,
   "metadata": {},
   "outputs": [],
   "source": []
  },
  {
   "cell_type": "code",
   "execution_count": null,
   "metadata": {},
   "outputs": [],
   "source": []
  },
  {
   "cell_type": "code",
   "execution_count": null,
   "metadata": {},
   "outputs": [],
   "source": []
  },
  {
   "cell_type": "code",
   "execution_count": null,
   "metadata": {},
   "outputs": [],
   "source": []
  },
  {
   "cell_type": "code",
   "execution_count": null,
   "metadata": {},
   "outputs": [],
   "source": []
  },
  {
   "cell_type": "code",
   "execution_count": null,
   "metadata": {},
   "outputs": [],
   "source": []
  },
  {
   "cell_type": "code",
   "execution_count": null,
   "metadata": {},
   "outputs": [],
   "source": []
  },
  {
   "cell_type": "code",
   "execution_count": null,
   "metadata": {},
   "outputs": [],
   "source": []
  },
  {
   "cell_type": "code",
   "execution_count": null,
   "metadata": {},
   "outputs": [],
   "source": []
  },
  {
   "cell_type": "code",
   "execution_count": null,
   "metadata": {},
   "outputs": [],
   "source": []
  },
  {
   "cell_type": "code",
   "execution_count": null,
   "metadata": {},
   "outputs": [],
   "source": []
  },
  {
   "cell_type": "code",
   "execution_count": null,
   "metadata": {},
   "outputs": [],
   "source": []
  },
  {
   "cell_type": "code",
   "execution_count": null,
   "metadata": {
    "collapsed": true
   },
   "outputs": [],
   "source": []
  },
  {
   "cell_type": "code",
   "execution_count": null,
   "metadata": {},
   "outputs": [],
   "source": []
  },
  {
   "cell_type": "code",
   "execution_count": null,
   "metadata": {},
   "outputs": [],
   "source": []
  },
  {
   "cell_type": "code",
   "execution_count": null,
   "metadata": {},
   "outputs": [],
   "source": []
  },
  {
   "cell_type": "code",
   "execution_count": null,
   "metadata": {},
   "outputs": [],
   "source": []
  },
  {
   "cell_type": "code",
   "execution_count": null,
   "metadata": {},
   "outputs": [],
   "source": []
  },
  {
   "cell_type": "code",
   "execution_count": null,
   "metadata": {},
   "outputs": [],
   "source": []
  },
  {
   "cell_type": "code",
   "execution_count": null,
   "metadata": {},
   "outputs": [],
   "source": []
  },
  {
   "cell_type": "code",
   "execution_count": null,
   "metadata": {},
   "outputs": [],
   "source": []
  },
  {
   "cell_type": "code",
   "execution_count": null,
   "metadata": {},
   "outputs": [],
   "source": []
  },
  {
   "cell_type": "code",
   "execution_count": null,
   "metadata": {},
   "outputs": [],
   "source": []
  },
  {
   "cell_type": "code",
   "execution_count": null,
   "metadata": {},
   "outputs": [],
   "source": []
  },
  {
   "cell_type": "code",
   "execution_count": null,
   "metadata": {},
   "outputs": [],
   "source": []
  },
  {
   "cell_type": "code",
   "execution_count": null,
   "metadata": {},
   "outputs": [],
   "source": []
  },
  {
   "cell_type": "code",
   "execution_count": null,
   "metadata": {},
   "outputs": [],
   "source": []
  },
  {
   "cell_type": "code",
   "execution_count": null,
   "metadata": {},
   "outputs": [],
   "source": []
  },
  {
   "cell_type": "code",
   "execution_count": null,
   "metadata": {},
   "outputs": [],
   "source": []
  },
  {
   "cell_type": "code",
   "execution_count": null,
   "metadata": {},
   "outputs": [],
   "source": []
  },
  {
   "cell_type": "code",
   "execution_count": null,
   "metadata": {},
   "outputs": [],
   "source": []
  },
  {
   "cell_type": "code",
   "execution_count": null,
   "metadata": {},
   "outputs": [],
   "source": []
  },
  {
   "cell_type": "code",
   "execution_count": null,
   "metadata": {},
   "outputs": [],
   "source": []
  },
  {
   "cell_type": "code",
   "execution_count": null,
   "metadata": {},
   "outputs": [],
   "source": []
  },
  {
   "cell_type": "code",
   "execution_count": null,
   "metadata": {},
   "outputs": [],
   "source": []
  },
  {
   "cell_type": "code",
   "execution_count": null,
   "metadata": {},
   "outputs": [],
   "source": []
  },
  {
   "cell_type": "code",
   "execution_count": null,
   "metadata": {},
   "outputs": [],
   "source": []
  },
  {
   "cell_type": "code",
   "execution_count": null,
   "metadata": {},
   "outputs": [],
   "source": []
  },
  {
   "cell_type": "code",
   "execution_count": null,
   "metadata": {},
   "outputs": [],
   "source": []
  }
 ],
 "metadata": {
  "anaconda-cloud": {},
  "kernelspec": {
   "display_name": "Python 3",
   "language": "python",
   "name": "python3"
  },
  "language_info": {
   "codemirror_mode": {
    "name": "ipython",
    "version": 3
   },
   "file_extension": ".py",
   "mimetype": "text/x-python",
   "name": "python",
   "nbconvert_exporter": "python",
   "pygments_lexer": "ipython3",
   "version": "3.7.3"
  }
 },
 "nbformat": 4,
 "nbformat_minor": 1
}
